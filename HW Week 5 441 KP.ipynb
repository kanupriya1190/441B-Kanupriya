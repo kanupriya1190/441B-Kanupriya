{
 "cells": [
  {
   "cell_type": "markdown",
   "metadata": {
    "id": "7ywSRtNI4s5h"
   },
   "source": [
    "# 0.) Import the Credit Card Fraud Data From CCLE"
   ]
  },
  {
   "cell_type": "code",
   "execution_count": 2,
   "metadata": {
    "id": "nsG1QV154GYZ"
   },
   "outputs": [],
   "source": [
    "import pandas as pd\n",
    "import matplotlib.pyplot as plt\n",
    "import numpy as np"
   ]
  },
  {
   "cell_type": "code",
   "execution_count": 3,
   "metadata": {
    "id": "KJQfo8mz43Kz"
   },
   "outputs": [],
   "source": [
    "df = pd.read_csv(\"fraudTest.csv\")"
   ]
  },
  {
   "cell_type": "code",
   "execution_count": 4,
   "metadata": {
    "colab": {
     "base_uri": "https://localhost:8080/",
     "height": 481
    },
    "id": "mKWSRv-q98wE",
    "outputId": "29838bae-3f83-4216-f0da-f7ea7ee6ee69"
   },
   "outputs": [
    {
     "data": {
      "text/html": [
       "<div>\n",
       "<style scoped>\n",
       "    .dataframe tbody tr th:only-of-type {\n",
       "        vertical-align: middle;\n",
       "    }\n",
       "\n",
       "    .dataframe tbody tr th {\n",
       "        vertical-align: top;\n",
       "    }\n",
       "\n",
       "    .dataframe thead th {\n",
       "        text-align: right;\n",
       "    }\n",
       "</style>\n",
       "<table border=\"1\" class=\"dataframe\">\n",
       "  <thead>\n",
       "    <tr style=\"text-align: right;\">\n",
       "      <th></th>\n",
       "      <th>Unnamed: 0</th>\n",
       "      <th>trans_date_trans_time</th>\n",
       "      <th>cc_num</th>\n",
       "      <th>merchant</th>\n",
       "      <th>category</th>\n",
       "      <th>amt</th>\n",
       "      <th>first</th>\n",
       "      <th>last</th>\n",
       "      <th>gender</th>\n",
       "      <th>street</th>\n",
       "      <th>...</th>\n",
       "      <th>lat</th>\n",
       "      <th>long</th>\n",
       "      <th>city_pop</th>\n",
       "      <th>job</th>\n",
       "      <th>dob</th>\n",
       "      <th>trans_num</th>\n",
       "      <th>unix_time</th>\n",
       "      <th>merch_lat</th>\n",
       "      <th>merch_long</th>\n",
       "      <th>is_fraud</th>\n",
       "    </tr>\n",
       "  </thead>\n",
       "  <tbody>\n",
       "    <tr>\n",
       "      <th>0</th>\n",
       "      <td>0</td>\n",
       "      <td>2020-06-21 12:14:25</td>\n",
       "      <td>2291163933867244</td>\n",
       "      <td>fraud_Kirlin and Sons</td>\n",
       "      <td>personal_care</td>\n",
       "      <td>2.86</td>\n",
       "      <td>Jeff</td>\n",
       "      <td>Elliott</td>\n",
       "      <td>M</td>\n",
       "      <td>351 Darlene Green</td>\n",
       "      <td>...</td>\n",
       "      <td>33.9659</td>\n",
       "      <td>-80.9355</td>\n",
       "      <td>333497</td>\n",
       "      <td>Mechanical engineer</td>\n",
       "      <td>1968-03-19</td>\n",
       "      <td>2da90c7d74bd46a0caf3777415b3ebd3</td>\n",
       "      <td>1371816865</td>\n",
       "      <td>33.986391</td>\n",
       "      <td>-81.200714</td>\n",
       "      <td>0</td>\n",
       "    </tr>\n",
       "    <tr>\n",
       "      <th>1</th>\n",
       "      <td>1</td>\n",
       "      <td>2020-06-21 12:14:33</td>\n",
       "      <td>3573030041201292</td>\n",
       "      <td>fraud_Sporer-Keebler</td>\n",
       "      <td>personal_care</td>\n",
       "      <td>29.84</td>\n",
       "      <td>Joanne</td>\n",
       "      <td>Williams</td>\n",
       "      <td>F</td>\n",
       "      <td>3638 Marsh Union</td>\n",
       "      <td>...</td>\n",
       "      <td>40.3207</td>\n",
       "      <td>-110.4360</td>\n",
       "      <td>302</td>\n",
       "      <td>Sales professional, IT</td>\n",
       "      <td>1990-01-17</td>\n",
       "      <td>324cc204407e99f51b0d6ca0055005e7</td>\n",
       "      <td>1371816873</td>\n",
       "      <td>39.450498</td>\n",
       "      <td>-109.960431</td>\n",
       "      <td>0</td>\n",
       "    </tr>\n",
       "    <tr>\n",
       "      <th>2</th>\n",
       "      <td>2</td>\n",
       "      <td>2020-06-21 12:14:53</td>\n",
       "      <td>3598215285024754</td>\n",
       "      <td>fraud_Swaniawski, Nitzsche and Welch</td>\n",
       "      <td>health_fitness</td>\n",
       "      <td>41.28</td>\n",
       "      <td>Ashley</td>\n",
       "      <td>Lopez</td>\n",
       "      <td>F</td>\n",
       "      <td>9333 Valentine Point</td>\n",
       "      <td>...</td>\n",
       "      <td>40.6729</td>\n",
       "      <td>-73.5365</td>\n",
       "      <td>34496</td>\n",
       "      <td>Librarian, public</td>\n",
       "      <td>1970-10-21</td>\n",
       "      <td>c81755dbbbea9d5c77f094348a7579be</td>\n",
       "      <td>1371816893</td>\n",
       "      <td>40.495810</td>\n",
       "      <td>-74.196111</td>\n",
       "      <td>0</td>\n",
       "    </tr>\n",
       "    <tr>\n",
       "      <th>3</th>\n",
       "      <td>3</td>\n",
       "      <td>2020-06-21 12:15:15</td>\n",
       "      <td>3591919803438423</td>\n",
       "      <td>fraud_Haley Group</td>\n",
       "      <td>misc_pos</td>\n",
       "      <td>60.05</td>\n",
       "      <td>Brian</td>\n",
       "      <td>Williams</td>\n",
       "      <td>M</td>\n",
       "      <td>32941 Krystal Mill Apt. 552</td>\n",
       "      <td>...</td>\n",
       "      <td>28.5697</td>\n",
       "      <td>-80.8191</td>\n",
       "      <td>54767</td>\n",
       "      <td>Set designer</td>\n",
       "      <td>1987-07-25</td>\n",
       "      <td>2159175b9efe66dc301f149d3d5abf8c</td>\n",
       "      <td>1371816915</td>\n",
       "      <td>28.812398</td>\n",
       "      <td>-80.883061</td>\n",
       "      <td>0</td>\n",
       "    </tr>\n",
       "    <tr>\n",
       "      <th>4</th>\n",
       "      <td>4</td>\n",
       "      <td>2020-06-21 12:15:17</td>\n",
       "      <td>3526826139003047</td>\n",
       "      <td>fraud_Johnston-Casper</td>\n",
       "      <td>travel</td>\n",
       "      <td>3.19</td>\n",
       "      <td>Nathan</td>\n",
       "      <td>Massey</td>\n",
       "      <td>M</td>\n",
       "      <td>5783 Evan Roads Apt. 465</td>\n",
       "      <td>...</td>\n",
       "      <td>44.2529</td>\n",
       "      <td>-85.0170</td>\n",
       "      <td>1126</td>\n",
       "      <td>Furniture designer</td>\n",
       "      <td>1955-07-06</td>\n",
       "      <td>57ff021bd3f328f8738bb535c302a31b</td>\n",
       "      <td>1371816917</td>\n",
       "      <td>44.959148</td>\n",
       "      <td>-85.884734</td>\n",
       "      <td>0</td>\n",
       "    </tr>\n",
       "  </tbody>\n",
       "</table>\n",
       "<p>5 rows × 23 columns</p>\n",
       "</div>"
      ],
      "text/plain": [
       "   Unnamed: 0 trans_date_trans_time            cc_num  \\\n",
       "0           0   2020-06-21 12:14:25  2291163933867244   \n",
       "1           1   2020-06-21 12:14:33  3573030041201292   \n",
       "2           2   2020-06-21 12:14:53  3598215285024754   \n",
       "3           3   2020-06-21 12:15:15  3591919803438423   \n",
       "4           4   2020-06-21 12:15:17  3526826139003047   \n",
       "\n",
       "                               merchant        category    amt   first  \\\n",
       "0                 fraud_Kirlin and Sons   personal_care   2.86    Jeff   \n",
       "1                  fraud_Sporer-Keebler   personal_care  29.84  Joanne   \n",
       "2  fraud_Swaniawski, Nitzsche and Welch  health_fitness  41.28  Ashley   \n",
       "3                     fraud_Haley Group        misc_pos  60.05   Brian   \n",
       "4                 fraud_Johnston-Casper          travel   3.19  Nathan   \n",
       "\n",
       "       last gender                       street  ...      lat      long  \\\n",
       "0   Elliott      M            351 Darlene Green  ...  33.9659  -80.9355   \n",
       "1  Williams      F             3638 Marsh Union  ...  40.3207 -110.4360   \n",
       "2     Lopez      F         9333 Valentine Point  ...  40.6729  -73.5365   \n",
       "3  Williams      M  32941 Krystal Mill Apt. 552  ...  28.5697  -80.8191   \n",
       "4    Massey      M     5783 Evan Roads Apt. 465  ...  44.2529  -85.0170   \n",
       "\n",
       "   city_pop                     job         dob  \\\n",
       "0    333497     Mechanical engineer  1968-03-19   \n",
       "1       302  Sales professional, IT  1990-01-17   \n",
       "2     34496       Librarian, public  1970-10-21   \n",
       "3     54767            Set designer  1987-07-25   \n",
       "4      1126      Furniture designer  1955-07-06   \n",
       "\n",
       "                          trans_num   unix_time  merch_lat  merch_long  \\\n",
       "0  2da90c7d74bd46a0caf3777415b3ebd3  1371816865  33.986391  -81.200714   \n",
       "1  324cc204407e99f51b0d6ca0055005e7  1371816873  39.450498 -109.960431   \n",
       "2  c81755dbbbea9d5c77f094348a7579be  1371816893  40.495810  -74.196111   \n",
       "3  2159175b9efe66dc301f149d3d5abf8c  1371816915  28.812398  -80.883061   \n",
       "4  57ff021bd3f328f8738bb535c302a31b  1371816917  44.959148  -85.884734   \n",
       "\n",
       "   is_fraud  \n",
       "0         0  \n",
       "1         0  \n",
       "2         0  \n",
       "3         0  \n",
       "4         0  \n",
       "\n",
       "[5 rows x 23 columns]"
      ]
     },
     "execution_count": 4,
     "metadata": {},
     "output_type": "execute_result"
    }
   ],
   "source": [
    "df.head()"
   ]
  },
  {
   "cell_type": "code",
   "execution_count": 5,
   "metadata": {
    "colab": {
     "base_uri": "https://localhost:8080/"
    },
    "id": "2_YuJa4IFKda",
    "outputId": "7e387d76-2dd6-472c-d598-5994ef2b9fda"
   },
   "outputs": [
    {
     "name": "stderr",
     "output_type": "stream",
     "text": [
      "/var/folders/5j/08vl_fjx6cj5ylf8zh9tkxyr0000gn/T/ipykernel_929/2282180580.py:3: SettingWithCopyWarning: \n",
      "A value is trying to be set on a copy of a slice from a DataFrame.\n",
      "Try using .loc[row_indexer,col_indexer] = value instead\n",
      "\n",
      "See the caveats in the documentation: https://pandas.pydata.org/pandas-docs/stable/user_guide/indexing.html#returning-a-view-versus-a-copy\n",
      "  df_select[\"trans_date_trans_time\"] = pd.to_datetime(df_select[\"trans_date_trans_time\"])\n",
      "/var/folders/5j/08vl_fjx6cj5ylf8zh9tkxyr0000gn/T/ipykernel_929/2282180580.py:4: SettingWithCopyWarning: \n",
      "A value is trying to be set on a copy of a slice from a DataFrame.\n",
      "Try using .loc[row_indexer,col_indexer] = value instead\n",
      "\n",
      "See the caveats in the documentation: https://pandas.pydata.org/pandas-docs/stable/user_guide/indexing.html#returning-a-view-versus-a-copy\n",
      "  df_select[\"time_var\"] = [i.second for i in df_select[\"trans_date_trans_time\"]]\n"
     ]
    }
   ],
   "source": [
    "df_select = df[[\"trans_date_trans_time\", \"category\", \"amt\", \"city_pop\", \"is_fraud\"]]\n",
    "\n",
    "df_select[\"trans_date_trans_time\"] = pd.to_datetime(df_select[\"trans_date_trans_time\"])\n",
    "df_select[\"time_var\"] = [i.second for i in df_select[\"trans_date_trans_time\"]]\n",
    "\n",
    "X = pd.get_dummies(df_select, [\"category\"]).drop([\"trans_date_trans_time\", \"is_fraud\"], axis = 1)\n",
    "y = df[\"is_fraud\"]"
   ]
  },
  {
   "cell_type": "markdown",
   "metadata": {
    "id": "8VsnpGe9-B3p"
   },
   "source": [
    "# 1.) Use scikit learn preprocessing to split the data into 70/30 in out of sample"
   ]
  },
  {
   "cell_type": "code",
   "execution_count": 6,
   "metadata": {
    "id": "1tpCDMW198ym"
   },
   "outputs": [],
   "source": [
    "from sklearn.model_selection import train_test_split\n",
    "from sklearn.preprocessing import StandardScaler"
   ]
  },
  {
   "cell_type": "code",
   "execution_count": 7,
   "metadata": {
    "id": "FZvnpERK981d"
   },
   "outputs": [],
   "source": [
    "X_train, X_test, y_train, y_test = train_test_split(X, y, test_size = .3)"
   ]
  },
  {
   "cell_type": "code",
   "execution_count": 8,
   "metadata": {
    "id": "JvCzIdgO983i"
   },
   "outputs": [],
   "source": [
    "X_test, X_holdout, y_test, y_holdout = train_test_split(X_test, y_test, test_size = .5)"
   ]
  },
  {
   "cell_type": "code",
   "execution_count": 9,
   "metadata": {
    "id": "f7APv9N3986a"
   },
   "outputs": [],
   "source": [
    "scaler = StandardScaler()\n",
    "X_train = scaler.fit_transform(X_train)\n",
    "X_test = scaler.transform(X_test)\n",
    "X_holdout = scaler.transform(X_holdout)"
   ]
  },
  {
   "cell_type": "markdown",
   "metadata": {
    "id": "lbkpNPyN-Gnk"
   },
   "source": [
    "# 2.) Make three sets of training data (Oversample, Undersample and SMOTE)"
   ]
  },
  {
   "cell_type": "code",
   "execution_count": 10,
   "metadata": {
    "id": "gTTVciVkqopH"
   },
   "outputs": [],
   "source": [
    "from imblearn.over_sampling import RandomOverSampler\n",
    "from imblearn.under_sampling import RandomUnderSampler\n",
    "from imblearn.over_sampling import SMOTE"
   ]
  },
  {
   "cell_type": "code",
   "execution_count": 82,
   "metadata": {
    "id": "gG88uxbiV4lZ"
   },
   "outputs": [],
   "source": [
    "ros = RandomOverSampler()\n",
    "over_X, over_y = ros.fit_resample(X_train, y_train)\n",
    "\n",
    "rus = RandomUnderSampler()\n",
    "under_X, under_y = rus.fit_resample(X_train, y_train)\n",
    "\n",
    "smote = SMOTE()\n",
    "smote_X, smote_y = smote.fit_resample(X_train, y_train)"
   ]
  },
  {
   "cell_type": "markdown",
   "metadata": {
    "id": "bIJx2jvD-KEI"
   },
   "source": [
    "# 3.) Train three logistic regression models"
   ]
  },
  {
   "cell_type": "code",
   "execution_count": 12,
   "metadata": {
    "id": "QhVMq92zvz4s"
   },
   "outputs": [],
   "source": [
    "from sklearn.linear_model import LogisticRegression"
   ]
  },
  {
   "cell_type": "code",
   "execution_count": 13,
   "metadata": {
    "id": "NvwomEoaGAgN"
   },
   "outputs": [],
   "source": [
    "over_log = LogisticRegression().fit(over_X, over_y)\n",
    "\n",
    "under_log = LogisticRegression().fit(under_X, under_y)\n",
    "\n",
    "smote_log = LogisticRegression().fit(smote_X, smote_y)"
   ]
  },
  {
   "cell_type": "markdown",
   "metadata": {
    "id": "PeurmqI4-OoC"
   },
   "source": [
    "# 4.) Test the three models"
   ]
  },
  {
   "cell_type": "code",
   "execution_count": 14,
   "metadata": {
    "colab": {
     "base_uri": "https://localhost:8080/"
    },
    "id": "8tpSsOC0xsKs",
    "outputId": "fee6e3f0-6c06-489e-90da-59237e609bca"
   },
   "outputs": [
    {
     "data": {
      "text/plain": [
       "0.9147412365939682"
      ]
     },
     "execution_count": 14,
     "metadata": {},
     "output_type": "execute_result"
    }
   ],
   "source": [
    "over_log.score(X_test, y_test)"
   ]
  },
  {
   "cell_type": "code",
   "execution_count": 15,
   "metadata": {
    "colab": {
     "base_uri": "https://localhost:8080/"
    },
    "id": "zwq8KTmsXhFY",
    "outputId": "7c01f959-58d8-44c6-e955-39fe84168d8a"
   },
   "outputs": [
    {
     "data": {
      "text/plain": [
       "0.9174644305285635"
      ]
     },
     "execution_count": 15,
     "metadata": {},
     "output_type": "execute_result"
    }
   ],
   "source": [
    "under_log.score(X_test, y_test)"
   ]
  },
  {
   "cell_type": "code",
   "execution_count": 16,
   "metadata": {
    "colab": {
     "base_uri": "https://localhost:8080/"
    },
    "id": "DjgQ8BQM99WR",
    "outputId": "a4f3fa30-e8f3-43f4-b562-959b200488e4"
   },
   "outputs": [
    {
     "data": {
      "text/plain": [
       "0.910398522037477"
      ]
     },
     "execution_count": 16,
     "metadata": {},
     "output_type": "execute_result"
    }
   ],
   "source": [
    "smote_log.score(X_test, y_test)"
   ]
  },
  {
   "cell_type": "code",
   "execution_count": 17,
   "metadata": {
    "id": "IF_H74Ht-RIL"
   },
   "outputs": [],
   "source": [
    "# We see SMOTE performing with higher accuracy but is ACCURACY really the best measure?"
   ]
  },
  {
   "cell_type": "code",
   "execution_count": null,
   "metadata": {
    "id": "udwK0byx-RLA"
   },
   "outputs": [],
   "source": []
  },
  {
   "cell_type": "markdown",
   "metadata": {
    "id": "6isBwtmL-R4p"
   },
   "source": [
    "# 5.) Which performed best in Out of Sample metrics?"
   ]
  },
  {
   "cell_type": "code",
   "execution_count": 18,
   "metadata": {
    "id": "9fwAhujT-RN4"
   },
   "outputs": [],
   "source": [
    "# Sensitivity here in credit fraud is more important as seen from last class"
   ]
  },
  {
   "cell_type": "code",
   "execution_count": 19,
   "metadata": {
    "id": "POIuy3rH-RQv"
   },
   "outputs": [],
   "source": [
    "from sklearn.metrics import confusion_matrix"
   ]
  },
  {
   "cell_type": "code",
   "execution_count": 20,
   "metadata": {
    "id": "e42UoedMK6eq"
   },
   "outputs": [],
   "source": [
    "y_true = y_test"
   ]
  },
  {
   "cell_type": "code",
   "execution_count": 21,
   "metadata": {
    "colab": {
     "base_uri": "https://localhost:8080/"
    },
    "id": "2mc_RyrHK6hX",
    "outputId": "408bb243-3c83-4337-97f5-21f57718360f"
   },
   "outputs": [
    {
     "data": {
      "text/plain": [
       "array([[76018,  7028],\n",
       "       [   79,   233]])"
      ]
     },
     "execution_count": 21,
     "metadata": {},
     "output_type": "execute_result"
    }
   ],
   "source": [
    "y_pred = over_log.predict(X_test)\n",
    "cm = confusion_matrix(y_true, y_pred)\n",
    "cm"
   ]
  },
  {
   "cell_type": "code",
   "execution_count": 22,
   "metadata": {
    "colab": {
     "base_uri": "https://localhost:8080/"
    },
    "id": "xT6gNjLuK6jS",
    "outputId": "2ed847ca-c7a5-414b-d45a-2e7acadfc9d5"
   },
   "outputs": [
    {
     "name": "stdout",
     "output_type": "stream",
     "text": [
      "Over Sample Sensitivity :  0.7467948717948718\n"
     ]
    }
   ],
   "source": [
    "print(\"Over Sample Sensitivity : \", cm[1,1] /( cm[1,0] + cm[1,1]))"
   ]
  },
  {
   "cell_type": "code",
   "execution_count": 23,
   "metadata": {
    "colab": {
     "base_uri": "https://localhost:8080/"
    },
    "id": "FTHhw9P1K6lY",
    "outputId": "cadf0e8b-2b60-4ac8-fa81-275d3fab8c6f"
   },
   "outputs": [
    {
     "data": {
      "text/plain": [
       "array([[76245,  6801],\n",
       "       [   79,   233]])"
      ]
     },
     "execution_count": 23,
     "metadata": {},
     "output_type": "execute_result"
    }
   ],
   "source": [
    "y_pred = under_log.predict(X_test)\n",
    "cm = confusion_matrix(y_true, y_pred)\n",
    "cm"
   ]
  },
  {
   "cell_type": "code",
   "execution_count": 24,
   "metadata": {
    "colab": {
     "base_uri": "https://localhost:8080/"
    },
    "id": "g14fgEkT-RTV",
    "outputId": "72b0902b-c2f5-46c7-c49c-83126c75c94f"
   },
   "outputs": [
    {
     "name": "stdout",
     "output_type": "stream",
     "text": [
      "Under Sample Sensitivity :  0.7467948717948718\n"
     ]
    }
   ],
   "source": [
    "print(\"Under Sample Sensitivity : \", cm[1,1] /( cm[1,0] + cm[1,1]))"
   ]
  },
  {
   "cell_type": "code",
   "execution_count": 25,
   "metadata": {
    "colab": {
     "base_uri": "https://localhost:8080/"
    },
    "id": "_iZ217d8LAR0",
    "outputId": "6d498a8f-bdd9-445d-97cc-6e4eec82574b"
   },
   "outputs": [
    {
     "data": {
      "text/plain": [
       "array([[75656,  7390],\n",
       "       [   79,   233]])"
      ]
     },
     "execution_count": 25,
     "metadata": {},
     "output_type": "execute_result"
    }
   ],
   "source": [
    "y_pred = smote_log.predict(X_test)\n",
    "cm = confusion_matrix(y_true, y_pred)\n",
    "cm"
   ]
  },
  {
   "cell_type": "code",
   "execution_count": 26,
   "metadata": {
    "colab": {
     "base_uri": "https://localhost:8080/"
    },
    "id": "X5bfByOALAUk",
    "outputId": "a7071ed7-f896-4825-90f4-612a0603697a"
   },
   "outputs": [
    {
     "name": "stdout",
     "output_type": "stream",
     "text": [
      "SMOTE Sample Sensitivity :  0.7467948717948718\n"
     ]
    }
   ],
   "source": [
    "print(\"SMOTE Sample Sensitivity : \", cm[1,1] /( cm[1,0] + cm[1,1]))"
   ]
  },
  {
   "cell_type": "code",
   "execution_count": null,
   "metadata": {
    "id": "5gAU63Wc-RWN"
   },
   "outputs": [],
   "source": []
  },
  {
   "cell_type": "markdown",
   "metadata": {
    "id": "aQa3sanl-XUk"
   },
   "source": [
    "# 6.) Pick two features and plot the two classes before and after SMOTE."
   ]
  },
  {
   "cell_type": "code",
   "execution_count": 78,
   "metadata": {
    "id": "MDSBmS_usbeJ"
   },
   "outputs": [],
   "source": [
    "# Concatenate features and target variable along with column names\n",
    "feature_names = X.columns.tolist()  \n",
    "raw_temp_with_names = np.concatenate([X_train, y_train.to_numpy().reshape(-1, 1)], axis=1)\n",
    "\n",
    "# Create a DataFrame with column names\n",
    "raw_temp = pd.DataFrame(raw_temp_with_names, columns=feature_names + ['is_fraud'])"
   ]
  },
  {
   "cell_type": "code",
   "execution_count": 79,
   "metadata": {
    "id": "9QA-y6HCslBR"
   },
   "outputs": [
    {
     "data": {
      "text/html": [
       "<div>\n",
       "<style scoped>\n",
       "    .dataframe tbody tr th:only-of-type {\n",
       "        vertical-align: middle;\n",
       "    }\n",
       "\n",
       "    .dataframe tbody tr th {\n",
       "        vertical-align: top;\n",
       "    }\n",
       "\n",
       "    .dataframe thead th {\n",
       "        text-align: right;\n",
       "    }\n",
       "</style>\n",
       "<table border=\"1\" class=\"dataframe\">\n",
       "  <thead>\n",
       "    <tr style=\"text-align: right;\">\n",
       "      <th></th>\n",
       "      <th>amt</th>\n",
       "      <th>city_pop</th>\n",
       "      <th>time_var</th>\n",
       "      <th>category_entertainment</th>\n",
       "      <th>category_food_dining</th>\n",
       "      <th>category_gas_transport</th>\n",
       "      <th>category_grocery_net</th>\n",
       "      <th>category_grocery_pos</th>\n",
       "      <th>category_health_fitness</th>\n",
       "      <th>category_home</th>\n",
       "      <th>category_kids_pets</th>\n",
       "      <th>category_misc_net</th>\n",
       "      <th>category_misc_pos</th>\n",
       "      <th>category_personal_care</th>\n",
       "      <th>category_shopping_net</th>\n",
       "      <th>category_shopping_pos</th>\n",
       "      <th>category_travel</th>\n",
       "      <th>is_fraud</th>\n",
       "    </tr>\n",
       "  </thead>\n",
       "  <tbody>\n",
       "    <tr>\n",
       "      <th>0</th>\n",
       "      <td>-0.240871</td>\n",
       "      <td>-0.291379</td>\n",
       "      <td>-1.299428</td>\n",
       "      <td>-0.278461</td>\n",
       "      <td>-0.275751</td>\n",
       "      <td>-0.336697</td>\n",
       "      <td>-0.189893</td>\n",
       "      <td>-0.322771</td>\n",
       "      <td>3.756776</td>\n",
       "      <td>-0.322955</td>\n",
       "      <td>-0.309548</td>\n",
       "      <td>-0.227596</td>\n",
       "      <td>-0.25798</td>\n",
       "      <td>-0.275783</td>\n",
       "      <td>-0.285237</td>\n",
       "      <td>-0.31314</td>\n",
       "      <td>-0.180257</td>\n",
       "      <td>0.0</td>\n",
       "    </tr>\n",
       "    <tr>\n",
       "      <th>1</th>\n",
       "      <td>-0.351157</td>\n",
       "      <td>-0.272453</td>\n",
       "      <td>-1.010586</td>\n",
       "      <td>-0.278461</td>\n",
       "      <td>-0.275751</td>\n",
       "      <td>-0.336697</td>\n",
       "      <td>-0.189893</td>\n",
       "      <td>-0.322771</td>\n",
       "      <td>-0.266186</td>\n",
       "      <td>3.096403</td>\n",
       "      <td>-0.309548</td>\n",
       "      <td>-0.227596</td>\n",
       "      <td>-0.25798</td>\n",
       "      <td>-0.275783</td>\n",
       "      <td>-0.285237</td>\n",
       "      <td>-0.31314</td>\n",
       "      <td>-0.180257</td>\n",
       "      <td>0.0</td>\n",
       "    </tr>\n",
       "    <tr>\n",
       "      <th>2</th>\n",
       "      <td>-0.022074</td>\n",
       "      <td>-0.276563</td>\n",
       "      <td>-1.703807</td>\n",
       "      <td>-0.278461</td>\n",
       "      <td>-0.275751</td>\n",
       "      <td>-0.336697</td>\n",
       "      <td>-0.189893</td>\n",
       "      <td>-0.322771</td>\n",
       "      <td>-0.266186</td>\n",
       "      <td>3.096403</td>\n",
       "      <td>-0.309548</td>\n",
       "      <td>-0.227596</td>\n",
       "      <td>-0.25798</td>\n",
       "      <td>-0.275783</td>\n",
       "      <td>-0.285237</td>\n",
       "      <td>-0.31314</td>\n",
       "      <td>-0.180257</td>\n",
       "      <td>0.0</td>\n",
       "    </tr>\n",
       "    <tr>\n",
       "      <th>3</th>\n",
       "      <td>-0.384540</td>\n",
       "      <td>-0.291143</td>\n",
       "      <td>-1.010586</td>\n",
       "      <td>-0.278461</td>\n",
       "      <td>-0.275751</td>\n",
       "      <td>-0.336697</td>\n",
       "      <td>-0.189893</td>\n",
       "      <td>-0.322771</td>\n",
       "      <td>-0.266186</td>\n",
       "      <td>-0.322955</td>\n",
       "      <td>-0.309548</td>\n",
       "      <td>-0.227596</td>\n",
       "      <td>-0.25798</td>\n",
       "      <td>-0.275783</td>\n",
       "      <td>3.505862</td>\n",
       "      <td>-0.31314</td>\n",
       "      <td>-0.180257</td>\n",
       "      <td>0.0</td>\n",
       "    </tr>\n",
       "    <tr>\n",
       "      <th>4</th>\n",
       "      <td>-0.316696</td>\n",
       "      <td>-0.291857</td>\n",
       "      <td>-1.472733</td>\n",
       "      <td>-0.278461</td>\n",
       "      <td>-0.275751</td>\n",
       "      <td>-0.336697</td>\n",
       "      <td>-0.189893</td>\n",
       "      <td>-0.322771</td>\n",
       "      <td>-0.266186</td>\n",
       "      <td>-0.322955</td>\n",
       "      <td>-0.309548</td>\n",
       "      <td>4.393744</td>\n",
       "      <td>-0.25798</td>\n",
       "      <td>-0.275783</td>\n",
       "      <td>-0.285237</td>\n",
       "      <td>-0.31314</td>\n",
       "      <td>-0.180257</td>\n",
       "      <td>0.0</td>\n",
       "    </tr>\n",
       "  </tbody>\n",
       "</table>\n",
       "</div>"
      ],
      "text/plain": [
       "        amt  city_pop  time_var  category_entertainment  category_food_dining  \\\n",
       "0 -0.240871 -0.291379 -1.299428               -0.278461             -0.275751   \n",
       "1 -0.351157 -0.272453 -1.010586               -0.278461             -0.275751   \n",
       "2 -0.022074 -0.276563 -1.703807               -0.278461             -0.275751   \n",
       "3 -0.384540 -0.291143 -1.010586               -0.278461             -0.275751   \n",
       "4 -0.316696 -0.291857 -1.472733               -0.278461             -0.275751   \n",
       "\n",
       "   category_gas_transport  category_grocery_net  category_grocery_pos  \\\n",
       "0               -0.336697             -0.189893             -0.322771   \n",
       "1               -0.336697             -0.189893             -0.322771   \n",
       "2               -0.336697             -0.189893             -0.322771   \n",
       "3               -0.336697             -0.189893             -0.322771   \n",
       "4               -0.336697             -0.189893             -0.322771   \n",
       "\n",
       "   category_health_fitness  category_home  category_kids_pets  \\\n",
       "0                 3.756776      -0.322955           -0.309548   \n",
       "1                -0.266186       3.096403           -0.309548   \n",
       "2                -0.266186       3.096403           -0.309548   \n",
       "3                -0.266186      -0.322955           -0.309548   \n",
       "4                -0.266186      -0.322955           -0.309548   \n",
       "\n",
       "   category_misc_net  category_misc_pos  category_personal_care  \\\n",
       "0          -0.227596           -0.25798               -0.275783   \n",
       "1          -0.227596           -0.25798               -0.275783   \n",
       "2          -0.227596           -0.25798               -0.275783   \n",
       "3          -0.227596           -0.25798               -0.275783   \n",
       "4           4.393744           -0.25798               -0.275783   \n",
       "\n",
       "   category_shopping_net  category_shopping_pos  category_travel  is_fraud  \n",
       "0              -0.285237               -0.31314        -0.180257       0.0  \n",
       "1              -0.285237               -0.31314        -0.180257       0.0  \n",
       "2              -0.285237               -0.31314        -0.180257       0.0  \n",
       "3               3.505862               -0.31314        -0.180257       0.0  \n",
       "4              -0.285237               -0.31314        -0.180257       0.0  "
      ]
     },
     "execution_count": 79,
     "metadata": {},
     "output_type": "execute_result"
    }
   ],
   "source": [
    "raw_temp.head()"
   ]
  },
  {
   "cell_type": "code",
   "execution_count": 80,
   "metadata": {
    "colab": {
     "base_uri": "https://localhost:8080/",
     "height": 465
    },
    "id": "vVaHpqf9wHj7",
    "outputId": "105a15c4-f26c-4210-f97c-4b4c3112344e"
   },
   "outputs": [
    {
     "data": {
      "image/png": "[encoded data removed]",
      "text/plain": [
       "<Figure size 640x480 with 1 Axes>"
      ]
     },
     "metadata": {},
     "output_type": "display_data"
    }
   ],
   "source": [
    "#plt.scatter(raw_temp[raw_temp[\"is_fraud\"] == 0][\"amt\"], raw_temp[raw_temp[\"is_fraud\"] == 0][\"city_pop\"])\n",
    "\n",
    "plt.scatter(raw_temp[raw_temp[\"is_fraud\"] == 1][\"amt\"], raw_temp[raw_temp[\"is_fraud\"] == 1][\"city_pop\"])\n",
    "plt.legend([\"Fraud\", \"Not Fraud\"])\n",
    "plt.xlabel(\"Amount\")\n",
    "plt.ylabel(\"Population\")\n",
    "\n",
    "plt.show()"
   ]
  },
  {
   "cell_type": "code",
   "execution_count": 86,
   "metadata": {
    "id": "YphNDj12aFhP"
   },
   "outputs": [],
   "source": [
    "#raw_temp = pd.concat([smote_X, smote_y], axis =1)\n",
    "# Concatenate features and target variable along with column names\n",
    "feature_names = X.columns.tolist()  \n",
    "raw_temp_with_names = np.concatenate([smote_X, smote_y.to_numpy().reshape(-1, 1)], axis=1)\n",
    "\n",
    "# Create a DataFrame with column names\n",
    "raw_temp = pd.DataFrame(raw_temp_with_names, columns=feature_names + ['is_fraud'])\n"
   ]
  },
  {
   "cell_type": "code",
   "execution_count": 87,
   "metadata": {
    "colab": {
     "base_uri": "https://localhost:8080/",
     "height": 520
    },
    "id": "G-MUv66T-RZE",
    "outputId": "a845731d-5a52-4480-d5eb-8dd58de8c3ca"
   },
   "outputs": [
    {
     "name": "stderr",
     "output_type": "stream",
     "text": [
      "/Users/kanupriya1190/anaconda3/lib/python3.10/site-packages/IPython/core/pylabtools.py:152: UserWarning: Creating legend with loc=\"best\" can be slow with large amounts of data.\n",
      "  fig.canvas.print_figure(bytes_io, **kw)\n"
     ]
    },
    {
     "data": {
      "image/png": "[encoded data removed]",
      "text/plain": [
       "<Figure size 640x480 with 1 Axes>"
      ]
     },
     "metadata": {},
     "output_type": "display_data"
    }
   ],
   "source": [
    "#plt.scatter(raw_temp[raw_temp[\"is_fraud\"] == 0][\"amt\"], raw_temp[raw_temp[\"is_fraud\"] == 0][\"city_pop\"])\n",
    "\n",
    "plt.scatter(raw_temp[raw_temp[\"is_fraud\"] == 1][\"amt\"], raw_temp[raw_temp[\"is_fraud\"] == 1][\"city_pop\"])\n",
    "plt.legend([ \"Not Fraud\", \"Fraud\"])\n",
    "plt.xlabel(\"Amount\")\n",
    "plt.ylabel(\"Population\")\n",
    "\n",
    "plt.show()"
   ]
  },
  {
   "cell_type": "markdown",
   "metadata": {
    "id": "wjt1pnzgZcuO"
   },
   "source": [
    "# 7.) We want to compare oversampling, Undersampling and SMOTE across our 3 models (Logistic Regression, Logistic Regression Lasso and Decision Trees).\n",
    "\n",
    "# Make a dataframe that has a dual index and 9 Rows.\n",
    "# Calculate: Sensitivity, Specificity, Precision, Recall and F1 score. for out of sample data.\n",
    "# Notice any patterns across perfomance for this model. Does one totally out perform the others IE. over/under/smote or does a model perform better DT, Lasso, LR?\n",
    "# Choose what you think is the best model and why. test on Holdout"
   ]
  },
  {
   "cell_type": "code",
   "execution_count": 46,
   "metadata": {
    "id": "0tIC3Nd1bx-N"
   },
   "outputs": [],
   "source": [
    "from sklearn.tree import DecisionTreeClassifier\n",
    "from sklearn.metrics import confusion_matrix, precision_score, recall_score, f1_score\n",
    "import pandas as pd"
   ]
  },
  {
   "cell_type": "code",
   "execution_count": 47,
   "metadata": {},
   "outputs": [],
   "source": [
    "resampling_methods = {\"over\":RandomOverSampler(), \"under\":RandomUnderSampler(), \"smote\":SMOTE()}\n",
    "model_configs = {\"LOG\":LogisticRegression(), \"LASSO\":LogisticRegression(penalty=\"l1\", C= 2., solver=\"liblinear\"), \"DTREE\":DecisionTreeClassifier()}"
   ]
  },
  {
   "cell_type": "code",
   "execution_count": 48,
   "metadata": {},
   "outputs": [],
   "source": [
    "def calc_perform_metrics(y_true,y_pred):\n",
    "    tp,tn,fp,fn = confusion_matrix(y_true,y_pred).ravel()\n",
    "    sensitivity= tp / (tp+fn)\n",
    "    specificity= tn / (tn+fp)\n",
    "    precision= precision_score(y_true,y_pred)\n",
    "    recall= recall_score(y_true,y_pred)\n",
    "    f1= f1_score(y_true,y_pred)\n",
    "    return(sensitivity, specificity, precision, recall, f1)"
   ]
  },
  {
   "cell_type": "code",
   "execution_count": 49,
   "metadata": {},
   "outputs": [],
   "source": [
    "trained_models = {}\n",
    "results = []"
   ]
  },
  {
   "cell_type": "code",
   "execution_count": 50,
   "metadata": {},
   "outputs": [],
   "source": [
    "for resample_keys, resampler in resampling_methods.items():\n",
    "    resample_x, resample_y = resampler.fit_resample(X_train, y_train)\n",
    "    \n",
    "    for model_key, model in model_configs.items():\n",
    "        combined_key =f\"{resample_keys}_{model_key}\"\n",
    "        m = model.fit(resample_x, resample_y)\n",
    "        trained_models[combined_key] = m\n",
    "        y_pred = m.predict(X_test)\n",
    "        sensitivity, specificity, precision, recall, f1=calc_perform_metrics(y_true,y_pred)\n",
    "        results.append({\"Model\": combined_key, \"Sensitivity\": sensitivity, \"Specificity\" : specificity, \"Precision\": precision, \"Recall\": recall, \"F1\": f1 })"
   ]
  },
  {
   "cell_type": "code",
   "execution_count": 51,
   "metadata": {},
   "outputs": [
    {
     "data": {
      "text/plain": [
       "{'over_LOG': LogisticRegression(),\n",
       " 'over_LASSO': LogisticRegression(C=2.0, penalty='l1', solver='liblinear'),\n",
       " 'over_DTREE': DecisionTreeClassifier(),\n",
       " 'under_LOG': LogisticRegression(),\n",
       " 'under_LASSO': LogisticRegression(C=2.0, penalty='l1', solver='liblinear'),\n",
       " 'under_DTREE': DecisionTreeClassifier(),\n",
       " 'smote_LOG': LogisticRegression(),\n",
       " 'smote_LASSO': LogisticRegression(C=2.0, penalty='l1', solver='liblinear'),\n",
       " 'smote_DTREE': DecisionTreeClassifier()}"
      ]
     },
     "execution_count": 51,
     "metadata": {},
     "output_type": "execute_result"
    }
   ],
   "source": [
    "trained_models"
   ]
  },
  {
   "cell_type": "code",
   "execution_count": 52,
   "metadata": {},
   "outputs": [],
   "source": [
    "result_dt = pd.DataFrame(results)"
   ]
  },
  {
   "cell_type": "code",
   "execution_count": 53,
   "metadata": {},
   "outputs": [
    {
     "data": {
      "text/html": [
       "<div>\n",
       "<style scoped>\n",
       "    .dataframe tbody tr th:only-of-type {\n",
       "        vertical-align: middle;\n",
       "    }\n",
       "\n",
       "    .dataframe tbody tr th {\n",
       "        vertical-align: top;\n",
       "    }\n",
       "\n",
       "    .dataframe thead th {\n",
       "        text-align: right;\n",
       "    }\n",
       "</style>\n",
       "<table border=\"1\" class=\"dataframe\">\n",
       "  <thead>\n",
       "    <tr style=\"text-align: right;\">\n",
       "      <th></th>\n",
       "      <th>Model</th>\n",
       "      <th>Sensitivity</th>\n",
       "      <th>Specificity</th>\n",
       "      <th>Precision</th>\n",
       "      <th>Recall</th>\n",
       "      <th>F1</th>\n",
       "    </tr>\n",
       "  </thead>\n",
       "  <tbody>\n",
       "    <tr>\n",
       "      <th>0</th>\n",
       "      <td>over_LOG</td>\n",
       "      <td>0.996943</td>\n",
       "      <td>0.988928</td>\n",
       "      <td>0.031966</td>\n",
       "      <td>0.746795</td>\n",
       "      <td>0.061308</td>\n",
       "    </tr>\n",
       "    <tr>\n",
       "      <th>1</th>\n",
       "      <td>over_LASSO</td>\n",
       "      <td>0.996944</td>\n",
       "      <td>0.988915</td>\n",
       "      <td>0.032001</td>\n",
       "      <td>0.746795</td>\n",
       "      <td>0.061372</td>\n",
       "    </tr>\n",
       "    <tr>\n",
       "      <th>2</th>\n",
       "      <td>over_DTREE</td>\n",
       "      <td>0.997990</td>\n",
       "      <td>0.498270</td>\n",
       "      <td>0.536977</td>\n",
       "      <td>0.535256</td>\n",
       "      <td>0.536116</td>\n",
       "    </tr>\n",
       "    <tr>\n",
       "      <th>3</th>\n",
       "      <td>under_LOG</td>\n",
       "      <td>0.996835</td>\n",
       "      <td>0.991717</td>\n",
       "      <td>0.024444</td>\n",
       "      <td>0.750000</td>\n",
       "      <td>0.047344</td>\n",
       "    </tr>\n",
       "    <tr>\n",
       "      <th>4</th>\n",
       "      <td>under_LASSO</td>\n",
       "      <td>0.996832</td>\n",
       "      <td>0.991783</td>\n",
       "      <td>0.024254</td>\n",
       "      <td>0.750000</td>\n",
       "      <td>0.046988</td>\n",
       "    </tr>\n",
       "    <tr>\n",
       "      <th>5</th>\n",
       "      <td>under_DTREE</td>\n",
       "      <td>0.996252</td>\n",
       "      <td>0.996333</td>\n",
       "      <td>0.053712</td>\n",
       "      <td>0.939103</td>\n",
       "      <td>0.101613</td>\n",
       "    </tr>\n",
       "    <tr>\n",
       "      <th>6</th>\n",
       "      <td>smote_LOG</td>\n",
       "      <td>0.996929</td>\n",
       "      <td>0.989448</td>\n",
       "      <td>0.030493</td>\n",
       "      <td>0.746795</td>\n",
       "      <td>0.058594</td>\n",
       "    </tr>\n",
       "    <tr>\n",
       "      <th>7</th>\n",
       "      <td>smote_LASSO</td>\n",
       "      <td>0.996929</td>\n",
       "      <td>0.989447</td>\n",
       "      <td>0.030497</td>\n",
       "      <td>0.746795</td>\n",
       "      <td>0.058602</td>\n",
       "    </tr>\n",
       "    <tr>\n",
       "      <th>8</th>\n",
       "      <td>smote_DTREE</td>\n",
       "      <td>0.997494</td>\n",
       "      <td>0.863459</td>\n",
       "      <td>0.237658</td>\n",
       "      <td>0.663462</td>\n",
       "      <td>0.349958</td>\n",
       "    </tr>\n",
       "  </tbody>\n",
       "</table>\n",
       "</div>"
      ],
      "text/plain": [
       "         Model  Sensitivity  Specificity  Precision    Recall        F1\n",
       "0     over_LOG     0.996943     0.988928   0.031966  0.746795  0.061308\n",
       "1   over_LASSO     0.996944     0.988915   0.032001  0.746795  0.061372\n",
       "2   over_DTREE     0.997990     0.498270   0.536977  0.535256  0.536116\n",
       "3    under_LOG     0.996835     0.991717   0.024444  0.750000  0.047344\n",
       "4  under_LASSO     0.996832     0.991783   0.024254  0.750000  0.046988\n",
       "5  under_DTREE     0.996252     0.996333   0.053712  0.939103  0.101613\n",
       "6    smote_LOG     0.996929     0.989448   0.030493  0.746795  0.058594\n",
       "7  smote_LASSO     0.996929     0.989447   0.030497  0.746795  0.058602\n",
       "8  smote_DTREE     0.997494     0.863459   0.237658  0.663462  0.349958"
      ]
     },
     "execution_count": 53,
     "metadata": {},
     "output_type": "execute_result"
    }
   ],
   "source": [
    "result_dt.head(100)"
   ]
  },
  {
   "cell_type": "markdown",
   "metadata": {},
   "source": [
    "Based on the table:\n",
    "\n",
    "1)Models over_LOG, over_LASSO, under_LOG, under_LASSO, smote_LOG, and smote_LASSO have very high Sensitivity but very low Precision, which means they are good at identifying positive instances but also incorrectly label many negatives as positives (likely many false positives).\n",
    "2)The over_DTREE model has high Sensitivity but very low Specificity, suggesting it labels almost all samples as positive, regardless of their true label.\n",
    "3)The under_DTREE model has a much better balance across all metrics, with a particularly high F1 score compared to the others.\n",
    "4)The smote_DTREE model has moderate values for Precision and Recall, indicating a balance between identifying positive instances and correctly labeling negative instances.\n",
    "\n",
    "The under_DTREE model is the best model overall as per the test data, it has a good balance of sensitivity and specificity with a relatively higher F1 score, which shows a good balance between Precision and Recall. This will perform the best on unseeen data as compared to other models. "
   ]
  },
  {
   "cell_type": "code",
   "execution_count": 54,
   "metadata": {},
   "outputs": [
    {
     "data": {
      "text/plain": [
       "(0.9966296408010177,\n",
       " 0.9885995777621394,\n",
       " 0.035297349265210824,\n",
       " 0.7603550295857988,\n",
       " 0.06746292164326027)"
      ]
     },
     "execution_count": 54,
     "metadata": {},
     "output_type": "execute_result"
    }
   ],
   "source": [
    "#testing on holdout data\n",
    "y_true1 = y_holdout\n",
    "y_pred1 = over_log.predict(X_holdout)\n",
    "calc_perform_metrics(y_true1,y_pred1)"
   ]
  },
  {
   "cell_type": "code",
   "execution_count": 61,
   "metadata": {},
   "outputs": [],
   "source": [
    "trained_models1 = {}\n",
    "results1 = []"
   ]
  },
  {
   "cell_type": "code",
   "execution_count": 69,
   "metadata": {},
   "outputs": [],
   "source": [
    "for resample_keys, resampler in resampling_methods.items():\n",
    "    resample_x, resample_y = resampler.fit_resample(X_train, y_train)\n",
    "    \n",
    "    for model_key, model in model_configs.items():\n",
    "        combined_key =f\"{resample_keys}_{model_key}\"\n",
    "        m = model.fit(resample_x, resample_y)\n",
    "        trained_models[combined_key] = m\n",
    "        y_pred1 = m.predict(X_holdout)\n",
    "        sensitivity, specificity, precision, recall, f1=calc_perform_metrics(y_true1,y_pred1)\n",
    "        results1.append({\"Model\": combined_key, \"Sensitivity\": sensitivity, \"Specificity\" : specificity, \"Precision\": precision, \"Recall\": recall, \"F1\": f1 })"
   ]
  },
  {
   "cell_type": "code",
   "execution_count": 70,
   "metadata": {},
   "outputs": [
    {
     "data": {
      "text/plain": [
       "{}"
      ]
     },
     "execution_count": 70,
     "metadata": {},
     "output_type": "execute_result"
    }
   ],
   "source": [
    "trained_models1"
   ]
  },
  {
   "cell_type": "code",
   "execution_count": 71,
   "metadata": {},
   "outputs": [
    {
     "data": {
      "text/html": [
       "<div>\n",
       "<style scoped>\n",
       "    .dataframe tbody tr th:only-of-type {\n",
       "        vertical-align: middle;\n",
       "    }\n",
       "\n",
       "    .dataframe tbody tr th {\n",
       "        vertical-align: top;\n",
       "    }\n",
       "\n",
       "    .dataframe thead th {\n",
       "        text-align: right;\n",
       "    }\n",
       "</style>\n",
       "<table border=\"1\" class=\"dataframe\">\n",
       "  <thead>\n",
       "    <tr style=\"text-align: right;\">\n",
       "      <th></th>\n",
       "      <th>Model</th>\n",
       "      <th>Sensitivity</th>\n",
       "      <th>Specificity</th>\n",
       "      <th>Precision</th>\n",
       "      <th>Recall</th>\n",
       "      <th>F1</th>\n",
       "    </tr>\n",
       "  </thead>\n",
       "  <tbody>\n",
       "    <tr>\n",
       "      <th>0</th>\n",
       "      <td>over_LOG</td>\n",
       "      <td>0.996630</td>\n",
       "      <td>0.988592</td>\n",
       "      <td>0.035322</td>\n",
       "      <td>0.760355</td>\n",
       "      <td>0.067507</td>\n",
       "    </tr>\n",
       "    <tr>\n",
       "      <th>1</th>\n",
       "      <td>over_LASSO</td>\n",
       "      <td>0.996630</td>\n",
       "      <td>0.988588</td>\n",
       "      <td>0.035331</td>\n",
       "      <td>0.760355</td>\n",
       "      <td>0.067525</td>\n",
       "    </tr>\n",
       "    <tr>\n",
       "      <th>2</th>\n",
       "      <td>over_DTREE</td>\n",
       "      <td>0.997629</td>\n",
       "      <td>0.469925</td>\n",
       "      <td>0.611801</td>\n",
       "      <td>0.582840</td>\n",
       "      <td>0.596970</td>\n",
       "    </tr>\n",
       "    <tr>\n",
       "      <th>3</th>\n",
       "      <td>under_LOG</td>\n",
       "      <td>0.996667</td>\n",
       "      <td>0.987025</td>\n",
       "      <td>0.040037</td>\n",
       "      <td>0.760355</td>\n",
       "      <td>0.076069</td>\n",
       "    </tr>\n",
       "    <tr>\n",
       "      <th>4</th>\n",
       "      <td>under_LASSO</td>\n",
       "      <td>0.996666</td>\n",
       "      <td>0.987102</td>\n",
       "      <td>0.039808</td>\n",
       "      <td>0.760355</td>\n",
       "      <td>0.075655</td>\n",
       "    </tr>\n",
       "    <tr>\n",
       "      <th>5</th>\n",
       "      <td>under_DTREE</td>\n",
       "      <td>0.995888</td>\n",
       "      <td>0.996938</td>\n",
       "      <td>0.066366</td>\n",
       "      <td>0.958580</td>\n",
       "      <td>0.124138</td>\n",
       "    </tr>\n",
       "    <tr>\n",
       "      <th>6</th>\n",
       "      <td>smote_LOG</td>\n",
       "      <td>0.996614</td>\n",
       "      <td>0.989129</td>\n",
       "      <td>0.033696</td>\n",
       "      <td>0.760355</td>\n",
       "      <td>0.064532</td>\n",
       "    </tr>\n",
       "    <tr>\n",
       "      <th>7</th>\n",
       "      <td>smote_LASSO</td>\n",
       "      <td>0.996614</td>\n",
       "      <td>0.989126</td>\n",
       "      <td>0.033705</td>\n",
       "      <td>0.760355</td>\n",
       "      <td>0.064549</td>\n",
       "    </tr>\n",
       "    <tr>\n",
       "      <th>8</th>\n",
       "      <td>smote_DTREE</td>\n",
       "      <td>0.997024</td>\n",
       "      <td>0.868006</td>\n",
       "      <td>0.289072</td>\n",
       "      <td>0.727811</td>\n",
       "      <td>0.413793</td>\n",
       "    </tr>\n",
       "  </tbody>\n",
       "</table>\n",
       "</div>"
      ],
      "text/plain": [
       "         Model  Sensitivity  Specificity  Precision    Recall        F1\n",
       "0     over_LOG     0.996630     0.988592   0.035322  0.760355  0.067507\n",
       "1   over_LASSO     0.996630     0.988588   0.035331  0.760355  0.067525\n",
       "2   over_DTREE     0.997629     0.469925   0.611801  0.582840  0.596970\n",
       "3    under_LOG     0.996667     0.987025   0.040037  0.760355  0.076069\n",
       "4  under_LASSO     0.996666     0.987102   0.039808  0.760355  0.075655\n",
       "5  under_DTREE     0.995888     0.996938   0.066366  0.958580  0.124138\n",
       "6    smote_LOG     0.996614     0.989129   0.033696  0.760355  0.064532\n",
       "7  smote_LASSO     0.996614     0.989126   0.033705  0.760355  0.064549\n",
       "8  smote_DTREE     0.997024     0.868006   0.289072  0.727811  0.413793"
      ]
     },
     "execution_count": 71,
     "metadata": {},
     "output_type": "execute_result"
    }
   ],
   "source": [
    "result_dt1 = pd.DataFrame(results1)\n",
    "result_dt1"
   ]
  },
  {
   "cell_type": "markdown",
   "metadata": {},
   "source": [
    "From the above results, using it on the holdout data, we again notice that the under_DTREE is the best model which has high scores of Sensitivity and Specificity with a relatively good F1 score, showing a balance between Precision and Recall. This model would perform the best, while also minimizing errors across metrics. "
   ]
  }
 ],
 "metadata": {
  "colab": {
   "provenance": []
  },
  "kernelspec": {
   "display_name": "Python 3 (ipykernel)",
   "language": "python",
   "name": "python3"
  },
  "language_info": {
   "codemirror_mode": {
    "name": "ipython",
    "version": 3
   },
   "file_extension": ".py",
   "mimetype": "text/x-python",
   "name": "python",
   "nbconvert_exporter": "python",
   "pygments_lexer": "ipython3",
   "version": "3.10.9"
  }
 },
 "nbformat": 4,
 "nbformat_minor": 1
}
