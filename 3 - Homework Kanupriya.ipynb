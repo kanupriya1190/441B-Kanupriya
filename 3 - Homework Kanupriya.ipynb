{
 "cells": [
  {
   "cell_type": "code",
   "execution_count": 21,
   "id": "55621e94",
   "metadata": {},
   "outputs": [],
   "source": [
    "import pandas as pd"
   ]
  },
  {
   "cell_type": "markdown",
   "id": "a055ebb7",
   "metadata": {},
   "source": [
    "# 1.) Clean the Apple Data to get a quarterly series of EPS."
   ]
  },
  {
   "cell_type": "code",
   "execution_count": 22,
   "id": "365b253b",
   "metadata": {},
   "outputs": [],
   "source": [
    "y = pd.read_csv(\"AAPL_quarterly_financials.csv\")"
   ]
  },
  {
   "cell_type": "code",
   "execution_count": 23,
   "id": "8932850f",
   "metadata": {},
   "outputs": [],
   "source": [
    "y.index = y.name"
   ]
  },
  {
   "cell_type": "code",
   "execution_count": 24,
   "id": "449862e7",
   "metadata": {},
   "outputs": [],
   "source": [
    "y = pd.DataFrame(y.loc[\"BasicEPS\", :]).iloc[2:,:]"
   ]
  },
  {
   "cell_type": "code",
   "execution_count": 25,
   "id": "c39e6c1d",
   "metadata": {},
   "outputs": [],
   "source": [
    "y.index = pd.to_datetime(y.index)"
   ]
  },
  {
   "cell_type": "code",
   "execution_count": 26,
   "id": "15452f18",
   "metadata": {},
   "outputs": [],
   "source": [
    "# CHECK IF NAS ARE NO DIVIDEND PERIOD\n",
    "y = y.sort_index().fillna(0.)"
   ]
  },
  {
   "cell_type": "markdown",
   "id": "f660ca3c",
   "metadata": {},
   "source": [
    "# 2.) Come up with 6 search terms you think could nowcast earnings. (Different than the ones I used) Add in 3 terms that that you think will not Nowcast earnings. Pull in the gtrends data"
   ]
  },
  {
   "cell_type": "code",
   "execution_count": 27,
   "id": "9cf66f00",
   "metadata": {},
   "outputs": [
    {
     "name": "stdout",
     "output_type": "stream",
     "text": [
      "Requirement already satisfied: pytrends in /Users/kanupriya1190/anaconda3/lib/python3.10/site-packages (4.9.2)\n",
      "Requirement already satisfied: pandas>=0.25 in /Users/kanupriya1190/anaconda3/lib/python3.10/site-packages (from pytrends) (2.0.3)\n",
      "Requirement already satisfied: lxml in /Users/kanupriya1190/anaconda3/lib/python3.10/site-packages (from pytrends) (4.9.1)\n",
      "Requirement already satisfied: requests>=2.0 in /Users/kanupriya1190/anaconda3/lib/python3.10/site-packages (from pytrends) (2.31.0)\n",
      "Requirement already satisfied: numpy>=1.21.0 in /Users/kanupriya1190/anaconda3/lib/python3.10/site-packages (from pandas>=0.25->pytrends) (1.23.5)\n",
      "Requirement already satisfied: python-dateutil>=2.8.2 in /Users/kanupriya1190/anaconda3/lib/python3.10/site-packages (from pandas>=0.25->pytrends) (2.8.2)\n",
      "Requirement already satisfied: pytz>=2020.1 in /Users/kanupriya1190/anaconda3/lib/python3.10/site-packages (from pandas>=0.25->pytrends) (2022.7)\n",
      "Requirement already satisfied: tzdata>=2022.1 in /Users/kanupriya1190/anaconda3/lib/python3.10/site-packages (from pandas>=0.25->pytrends) (2023.3)\n",
      "Requirement already satisfied: idna<4,>=2.5 in /Users/kanupriya1190/anaconda3/lib/python3.10/site-packages (from requests>=2.0->pytrends) (3.4)\n",
      "Requirement already satisfied: certifi>=2017.4.17 in /Users/kanupriya1190/anaconda3/lib/python3.10/site-packages (from requests>=2.0->pytrends) (2023.5.7)\n",
      "Requirement already satisfied: urllib3<3,>=1.21.1 in /Users/kanupriya1190/anaconda3/lib/python3.10/site-packages (from requests>=2.0->pytrends) (1.26.14)\n",
      "Requirement already satisfied: charset-normalizer<4,>=2 in /Users/kanupriya1190/anaconda3/lib/python3.10/site-packages (from requests>=2.0->pytrends) (2.0.4)\n",
      "Requirement already satisfied: six>=1.5 in /Users/kanupriya1190/anaconda3/lib/python3.10/site-packages (from python-dateutil>=2.8.2->pandas>=0.25->pytrends) (1.16.0)\n",
      "Note: you may need to restart the kernel to use updated packages.\n"
     ]
    }
   ],
   "source": [
    "pip install pytrends\n"
   ]
  },
  {
   "cell_type": "code",
   "execution_count": 28,
   "id": "101a8370",
   "metadata": {},
   "outputs": [],
   "source": [
    "from pytrends.request import TrendReq"
   ]
  },
  {
   "cell_type": "code",
   "execution_count": 29,
   "id": "715787dd",
   "metadata": {},
   "outputs": [],
   "source": [
    "# Create pytrends object\n",
    "pytrends = TrendReq(hl='en-US', tz=360)\n",
    "\n",
    "# Set up the keywords and the timeframe\n",
    "keywords = [\"Apple\", \"Samsung\", \"Iphone\", \"Taylor Swift\", \"NASDAQ\", \"UCLA\"]  \n",
    "start_date = '2004-01-01'\n",
    "end_date = '2024-01-01'\n",
    "\n",
    "# Create an empty DataFrame to store the results\n",
    "df = pd.DataFrame()\n",
    "\n",
    "# Iterate through keywords and fetch data\n",
    "for keyword in keywords:\n",
    "    pytrends.build_payload([keyword], cat=0, timeframe=f'{start_date} {end_date}', geo='', gprop='')\n",
    "    interest_over_time_df = pytrends.interest_over_time()\n",
    "    df[keyword] = interest_over_time_df[keyword]"
   ]
  },
  {
   "cell_type": "code",
   "execution_count": 30,
   "id": "22bbb744",
   "metadata": {},
   "outputs": [],
   "source": [
    "df = df.resample(\"Q\").mean()"
   ]
  },
  {
   "cell_type": "code",
   "execution_count": 31,
   "id": "c9c9b3e0",
   "metadata": {},
   "outputs": [],
   "source": [
    "df = df.fillna(0)\n",
    "X = df \n",
    "X = X[X.index.isin(y.index)]\n",
    "y = y[y.index.isin(X.index)]"
   ]
  },
  {
   "cell_type": "code",
   "execution_count": 32,
   "id": "c925f043",
   "metadata": {},
   "outputs": [],
   "source": [
    "# ALIGN DATA\n",
    "temp = pd.concat([y, X],axis = 1).dropna()\n",
    "y = temp[[\"BasicEPS\"]].copy()\n",
    "X = temp.iloc[:,1:].copy()"
   ]
  },
  {
   "cell_type": "markdown",
   "id": "863d55e4",
   "metadata": {},
   "source": [
    "# 3.) Normalize all the X data"
   ]
  },
  {
   "cell_type": "code",
   "execution_count": 33,
   "id": "8325a0f4",
   "metadata": {},
   "outputs": [],
   "source": [
    "from sklearn.preprocessing import StandardScaler"
   ]
  },
  {
   "cell_type": "code",
   "execution_count": 34,
   "id": "bc2504ab",
   "metadata": {},
   "outputs": [],
   "source": [
    "scaler = StandardScaler()\n",
    "X_scaled = scaler.fit_transform(X)"
   ]
  },
  {
   "cell_type": "markdown",
   "id": "925f79f5",
   "metadata": {},
   "source": [
    "# 4.) Run a Lasso with lambda of .5. Plot a bar chart."
   ]
  },
  {
   "cell_type": "code",
   "execution_count": 35,
   "id": "d829a004",
   "metadata": {},
   "outputs": [],
   "source": [
    "from sklearn.linear_model import Lasso"
   ]
  },
  {
   "cell_type": "code",
   "execution_count": 36,
   "id": "5e19efe6",
   "metadata": {},
   "outputs": [
    {
     "data": {
      "text/plain": [
       "array([ 0.21527763,  0.        ,  0.        ,  0.        ,  0.22954048,\n",
       "       -0.07444765])"
      ]
     },
     "execution_count": 36,
     "metadata": {},
     "output_type": "execute_result"
    }
   ],
   "source": [
    "l = Lasso(alpha = 0.05)\n",
    "l.fit(X_scaled, y)\n",
    "Coefficients = l.coef_\n",
    "Coefficients"
   ]
  },
  {
   "cell_type": "code",
   "execution_count": 37,
   "id": "fd87f09b",
   "metadata": {},
   "outputs": [],
   "source": [
    "import matplotlib.pyplot as plt"
   ]
  },
  {
   "cell_type": "code",
   "execution_count": 38,
   "id": "c54e8a3d",
   "metadata": {},
   "outputs": [
    {
     "data": {
      "image/png": "[encoded data removed]",
      "text/plain": [
       "<Figure size 1200x500 with 1 Axes>"
      ]
     },
     "metadata": {},
     "output_type": "display_data"
    }
   ],
   "source": [
    "plt.figure(figsize = (12,5))\n",
    "plt.bar(range(len(Coefficients)), Coefficients)\n",
    "plt.xticks(range(len(Coefficients)), X.columns, rotation = 'vertical')\n",
    "plt.axhline(0, color = \"red\")\n",
    "plt.show()"
   ]
  },
  {
   "cell_type": "markdown",
   "id": "96278b34",
   "metadata": {},
   "source": [
    "# 5.) Do these coefficient magnitudes make sense?"
   ]
  },
  {
   "cell_type": "markdown",
   "id": "55d692d8",
   "metadata": {},
   "source": [
    "The first coefficient with the term search of \"Apple\" with respect to our target varibale, \"BasicEPS\", shows that there is a positve direction in their relationship but the effect between the two isn't too strong. This coefficient doesn't really make sense because it would make sense to be more seraches for the word \"Apple\" on Google, when one is concerned about the EPS of Apple Inc. However, compared to other coefficients, the magnitude and direction of the coefficients still validate the expected relationship between the two. "
   ]
  },
  {
   "cell_type": "markdown",
   "id": "5ae3d8cd",
   "metadata": {},
   "source": [
    "The second coefficient for the feature \"Samsung\" with respect to Apple EPS, shows that there is no effect. The alpha penalizes the feature so much, that it shrinks the coefficients to zero. However, this would also not make sense, since one concerned with EPS of Apple would be concerned with the developemnt in Samsung, to udnerstand the potential profits. "
   ]
  },
  {
   "cell_type": "markdown",
   "id": "d73e6650",
   "metadata": {},
   "source": [
    "The thrid coefficient for the google term search \"Iphone\" with respect to Apple EPS, shows that there exists no relationship, hpwever, this is contradictory tot he expected relationship. "
   ]
  },
  {
   "cell_type": "markdown",
   "id": "b72a29d0",
   "metadata": {},
   "source": [
    "The fourth coefficients for the term search \"taylor Swift\" for the Apple EPS, the Lasso fit shrinks the coefficients to 0 but this relationship is expected."
   ]
  },
  {
   "cell_type": "markdown",
   "id": "488b066c",
   "metadata": {},
   "source": [
    "The fifth coefficient for the term search \"NASDAQ\" with respect to Apple EPS, Lasso shows a positive direction, however, one conncerned with Apple EPS would want to analyse the NASDAQ index performance to guage the potential profits from investing. Therefore, this coefficient doesn't make sense and is not in congizance witht he expected relationship, the ,magnitude of the coefficient should be large enough."
   ]
  },
  {
   "cell_type": "markdown",
   "id": "f8c1a0e4",
   "metadata": {},
   "source": [
    "The sixth coeffieicnt for the term search \"UCLA\" for Apple EPS, the Lasso shows a negative relationship, which expected. The coefficient here makes sense. however, the maginutde could have been much smaller, as there exists practically no expected relationship between the two. "
   ]
  }
 ],
 "metadata": {
  "kernelspec": {
   "display_name": "Python 3 (ipykernel)",
   "language": "python",
   "name": "python3"
  },
  "language_info": {
   "codemirror_mode": {
    "name": "ipython",
    "version": 3
   },
   "file_extension": ".py",
   "mimetype": "text/x-python",
   "name": "python",
   "nbconvert_exporter": "python",
   "pygments_lexer": "ipython3",
   "version": "3.10.9"
  }
 },
 "nbformat": 4,
 "nbformat_minor": 5
}
